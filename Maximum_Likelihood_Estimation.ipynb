{
 "cells": [
  {
   "cell_type": "code",
   "execution_count": 1,
   "id": "0d473967",
   "metadata": {},
   "outputs": [],
   "source": [
    "# REQUIRED LIBRARIES AND PACKAGES\n",
    "import numpy as np\n",
    "import scipy.linalg\n",
    "import matplotlib.pyplot as plt\n",
    "%matplotlib inline"
   ]
  },
  {
   "cell_type": "code",
   "execution_count": 3,
   "id": "bcdeb350",
   "metadata": {},
   "outputs": [
    {
     "data": {
      "image/png": "[encoded data removed]",
      "text/plain": [
       "<Figure size 432x288 with 1 Axes>"
      ]
     },
     "metadata": {
      "needs_background": "light"
     },
     "output_type": "display_data"
    }
   ],
   "source": [
    "# Define training set\n",
    "X = np.array([-4, -2, 0, 2, 4]).reshape(-1,1) # 5x1 vector, N=5, D=1\n",
    "y = np.array([-1.1, -0.6, 0.12, 0.68, 1.65]).reshape(-1,1) # 5x1 vector\n",
    "\n",
    "# Plot the training set\n",
    "plt.figure()\n",
    "plt.plot(X, y, '+', markersize=10)\n",
    "plt.xlabel(\"$x$\")\n",
    "plt.ylabel(\"$y$\");"
   ]
  },
  {
   "cell_type": "code",
   "execution_count": 4,
   "id": "46404bfa",
   "metadata": {},
   "outputs": [],
   "source": [
    "def max_lik_estimate(X, y):\n",
    "    \n",
    "    # X: N x D matrix of training inputs\n",
    "    # y: N x 1 vector of training targets/observations\n",
    "    # returns: maximum likelihood parameters (D x 1)\n",
    "    \n",
    "    N, D = X.shape\n",
    "    theta_ml = np.linalg.solve(X.T @ X, X.T @ y) \n",
    "    return theta_ml"
   ]
  },
  {
   "cell_type": "code",
   "execution_count": 17,
   "id": "8a41130f",
   "metadata": {},
   "outputs": [],
   "source": [
    "theta_ml = max_lik_estimate(X,y)"
   ]
  },
  {
   "cell_type": "code",
   "execution_count": 18,
   "id": "664bb4b0",
   "metadata": {},
   "outputs": [],
   "source": [
    "def predict_with_estimate(Xtest, theta):\n",
    "    \n",
    "    # Xtest: K x D matrix of test inputs\n",
    "    # theta: D x 1 vector of parameters\n",
    "    # returns: prediction of f(Xtest); K x 1 vector\n",
    "    \n",
    "    prediction = Xtest @ theta\n",
    "    \n",
    "    return prediction "
   ]
  },
  {
   "cell_type": "code",
   "execution_count": 19,
   "id": "02573a13",
   "metadata": {},
   "outputs": [
    {
     "data": {
      "image/png": "[encoded data removed]",
      "text/plain": [
       "<Figure size 432x288 with 1 Axes>"
      ]
     },
     "metadata": {
      "needs_background": "light"
     },
     "output_type": "display_data"
    }
   ],
   "source": [
    "# define a test set\n",
    "Xtest = np.linspace(-5,5,100).reshape(-1,1) # 100 x 1 vector of test inputs\n",
    "\n",
    "# predict the function values at the test points using the maximum likelihood estimator\n",
    "ml_prediction = predict_with_estimate(Xtest, theta_ml)\n",
    "\n",
    "# plot\n",
    "plt.figure()\n",
    "plt.plot(X, y, '+', markersize=10)\n",
    "plt.plot(Xtest, ml_prediction)\n",
    "plt.xlabel(\"$x$\")\n",
    "plt.ylabel(\"$y$\");"
   ]
  },
  {
   "cell_type": "code",
   "execution_count": 21,
   "id": "845e790f",
   "metadata": {},
   "outputs": [],
   "source": [
    "# Questions\n",
    "# 1. Does the solution above look reasonable?\n",
    "# 2. Play around with different values of θ. How do the corresponding functions change?\n",
    "# 3. Modify the training targets Y and re-run your computation. What changes?"
   ]
  },
  {
   "cell_type": "code",
   "execution_count": null,
   "id": "a5bca299",
   "metadata": {},
   "outputs": [],
   "source": []
  }
 ],
 "metadata": {
  "kernelspec": {
   "display_name": "Python 3",
   "language": "python",
   "name": "python3"
  },
  "language_info": {
   "codemirror_mode": {
    "name": "ipython",
    "version": 3
   },
   "file_extension": ".py",
   "mimetype": "text/x-python",
   "name": "python",
   "nbconvert_exporter": "python",
   "pygments_lexer": "ipython3",
   "version": "3.8.8"
  }
 },
 "nbformat": 4,
 "nbformat_minor": 5
}
