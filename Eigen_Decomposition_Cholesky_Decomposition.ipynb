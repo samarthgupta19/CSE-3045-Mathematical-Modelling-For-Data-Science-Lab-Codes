{
 "cells": [
  {
   "cell_type": "code",
   "execution_count": 1,
   "id": "42f64bd0",
   "metadata": {},
   "outputs": [],
   "source": [
    "# EIGEN DECOMPOSITION USING PYTHON\n",
    "\n",
    "# Matrix Reconstruction"
   ]
  },
  {
   "cell_type": "code",
   "execution_count": 2,
   "id": "94a84d64",
   "metadata": {},
   "outputs": [],
   "source": [
    "# Installing Useful Packages And Libraries\n",
    "from numpy import diag\n",
    "from numpy import dot\n",
    "from numpy.linalg import inv\n",
    "from numpy import array\n",
    "from numpy.linalg import eig"
   ]
  },
  {
   "cell_type": "code",
   "execution_count": 3,
   "id": "351f43f5",
   "metadata": {},
   "outputs": [
    {
     "name": "stdout",
     "output_type": "stream",
     "text": [
      "[[9 2 3 6 8]\n",
      " [3 5 2 9 8]\n",
      " [1 3 6 8 3]\n",
      " [4 6 1 7 9]\n",
      " [6 7 5 8 2]]\n"
     ]
    }
   ],
   "source": [
    "# Defining The Matrix\n",
    "A = array([[9, 2, 3, 6, 8], [3, 5, 2, 9, 8], [1, 3, 6, 8, 3], [4, 6, 1, 7, 9], [6, 7, 5, 8, 2]])\n",
    "print(A)"
   ]
  },
  {
   "cell_type": "code",
   "execution_count": 6,
   "id": "df7f8f0a",
   "metadata": {},
   "outputs": [
    {
     "name": "stdout",
     "output_type": "stream",
     "text": [
      "EigenValues Of Matrix A : \n",
      " [26.72901319+0.j          4.44698071+1.29420835j  4.44698071-1.29420835j\n",
      " -5.10405995+0.j         -1.51891465+0.j        ]\n",
      "\n",
      "EigenVectors Of Matrix A : \n",
      " [[-0.47979491+0.j         -0.44405489-0.31744603j -0.44405489+0.31744603j\n",
      "  -0.29042463+0.j          0.11479635+0.j        ]\n",
      " [-0.46416219+0.j          0.03344355+0.15447885j  0.03344355-0.15447885j\n",
      "  -0.22456642+0.j         -0.36853808+0.j        ]\n",
      " [-0.33915514+0.j          0.7916804 +0.j          0.7916804 -0.j\n",
      "   0.16413789+0.j         -0.44270328+0.j        ]\n",
      " [-0.4691969 +0.j         -0.15344078+0.11617019j -0.15344078-0.11617019j\n",
      "  -0.41361829+0.j          0.69527759+0.j        ]\n",
      " [-0.46816489+0.j          0.11391852-0.01691757j  0.11391852+0.01691757j\n",
      "   0.81682441+0.j         -0.41425157+0.j        ]]\n"
     ]
    }
   ],
   "source": [
    "# Calculating EigenValues And EigenVectors\n",
    "values, vectors = eig(A)\n",
    "print(\"EigenValues Of Matrix A : \\n\",values)\n",
    "print(\"\\nEigenVectors Of Matrix A : \\n\",vectors)"
   ]
  },
  {
   "cell_type": "code",
   "execution_count": 8,
   "id": "600d0910",
   "metadata": {},
   "outputs": [
    {
     "name": "stdout",
     "output_type": "stream",
     "text": [
      "Matrix Formed By EigenVectors : \n",
      " [[-0.47979491+0.j         -0.44405489-0.31744603j -0.44405489+0.31744603j\n",
      "  -0.29042463+0.j          0.11479635+0.j        ]\n",
      " [-0.46416219+0.j          0.03344355+0.15447885j  0.03344355-0.15447885j\n",
      "  -0.22456642+0.j         -0.36853808+0.j        ]\n",
      " [-0.33915514+0.j          0.7916804 +0.j          0.7916804 -0.j\n",
      "   0.16413789+0.j         -0.44270328+0.j        ]\n",
      " [-0.4691969 +0.j         -0.15344078+0.11617019j -0.15344078-0.11617019j\n",
      "  -0.41361829+0.j          0.69527759+0.j        ]\n",
      " [-0.46816489+0.j          0.11391852-0.01691757j  0.11391852+0.01691757j\n",
      "   0.81682441+0.j         -0.41425157+0.j        ]]\n"
     ]
    }
   ],
   "source": [
    "# Matrix Creation From EigenVectors\n",
    "Q = vectors\n",
    "print(\"Matrix Formed By EigenVectors : \\n\",Q)"
   ]
  },
  {
   "cell_type": "code",
   "execution_count": 9,
   "id": "004e02e2",
   "metadata": {},
   "outputs": [
    {
     "name": "stdout",
     "output_type": "stream",
     "text": [
      "Inverse Of EigenVectors Matrix Is : \n",
      " [[-0.39857309-1.15697665e-16j -0.40944276+1.15697665e-16j\n",
      "  -0.25195706+1.15697665e-16j -0.62005804-5.78488327e-17j\n",
      "  -0.51763167-1.15697665e-16j]\n",
      " [-0.09830691+1.01653527e+00j -0.32956139-8.76129636e-01j\n",
      "   0.64434537+5.58992257e-01j  0.14301118-3.88668396e-01j\n",
      "  -0.18262018-1.88577350e-01j]\n",
      " [-0.09830691-1.01653527e+00j -0.32956139+8.76129636e-01j\n",
      "   0.64434537-5.58992257e-01j  0.14301118+3.88668396e-01j\n",
      "  -0.18262018+1.88577350e-01j]\n",
      " [-0.32832349+8.18648494e-18j -0.67139811-2.83302200e-17j\n",
      "  -0.27861168+1.21677853e-17j  0.14918397+1.14478730e-17j\n",
      "   1.05446071+1.46933412e-18j]\n",
      " [-0.16798504+7.69761228e-17j -1.11395569-8.94179438e-17j\n",
      "   0.13542481+7.42115178e-17j  1.04182853-2.56326451e-17j\n",
      "   0.13435807-3.35669568e-18j]]\n"
     ]
    }
   ],
   "source": [
    "# Finding Inverse Of EigenVectors Matrix\n",
    "R = inv(Q)\n",
    "print(\"Inverse Of EigenVectors Matrix Is : \\n\",R)"
   ]
  },
  {
   "cell_type": "code",
   "execution_count": 10,
   "id": "79725a31",
   "metadata": {},
   "outputs": [
    {
     "name": "stdout",
     "output_type": "stream",
     "text": [
      "Diagonal Matrix Formed By EigenValues : \n",
      " [[26.72901319+0.j          0.        +0.j          0.        +0.j\n",
      "   0.        +0.j          0.        +0.j        ]\n",
      " [ 0.        +0.j          4.44698071+1.29420835j  0.        +0.j\n",
      "   0.        +0.j          0.        +0.j        ]\n",
      " [ 0.        +0.j          0.        +0.j          4.44698071-1.29420835j\n",
      "   0.        +0.j          0.        +0.j        ]\n",
      " [ 0.        +0.j          0.        +0.j          0.        +0.j\n",
      "  -5.10405995+0.j          0.        +0.j        ]\n",
      " [ 0.        +0.j          0.        +0.j          0.        +0.j\n",
      "   0.        +0.j         -1.51891465+0.j        ]]\n"
     ]
    }
   ],
   "source": [
    "# Diagonal Matrix Creation From EigenValues\n",
    "L = diag(values)\n",
    "print(\"Diagonal Matrix Formed By EigenValues : \\n\",L)"
   ]
  },
  {
   "cell_type": "code",
   "execution_count": 11,
   "id": "b5cdb7ad",
   "metadata": {},
   "outputs": [
    {
     "name": "stdout",
     "output_type": "stream",
     "text": [
      "[[9.+1.55302542e-15j 2.-1.35867135e-15j 3.-1.32717073e-15j\n",
      "  6.+6.32061816e-16j 8.+1.33503098e-15j]\n",
      " [3.+1.31535157e-15j 5.-1.58132738e-15j 2.-1.38780124e-15j\n",
      "  9.+7.48173511e-16j 8.+1.48472844e-15j]\n",
      " [1.+1.37717018e-15j 3.-9.24571395e-16j 6.-1.29255949e-15j\n",
      "  8.+4.17262409e-16j 3.+1.10673492e-15j]\n",
      " [4.+1.15723611e-15j 6.-1.40866741e-15j 1.-1.38495218e-15j\n",
      "  7.+8.28393893e-16j 9.+1.46381458e-15j]\n",
      " [6.+1.56861615e-15j 7.-1.38144074e-15j 5.-1.50283521e-15j\n",
      "  8.+6.85544589e-16j 2.+1.46280760e-15j]]\n"
     ]
    }
   ],
   "source": [
    "# Reconstructing Original Matrix A\n",
    "B = Q.dot(L).dot(R)\n",
    "print(B)"
   ]
  },
  {
   "cell_type": "code",
   "execution_count": 5,
   "id": "04437d16",
   "metadata": {
    "scrolled": true
   },
   "outputs": [
    {
     "name": "stdout",
     "output_type": "stream",
     "text": [
      "The Matrix Formed Is :\n",
      "[[ 19 -12 -12 -19]\n",
      " [-12  27   1  -4]\n",
      " [-12   1  11  14]\n",
      " [-19   4  14  51]]\n",
      "\n",
      "Lower-Trianglular Matrix L In Cholesky Decomposition Is :\n",
      "[[ 4.35889894  0.          0.          0.        ]\n",
      " [-2.75298881  4.40693234  0.          0.        ]\n",
      " [-2.75298881 -1.49286326  1.09197616  0.        ]\n",
      " [-4.35889894 -1.81532172 -0.65022217  5.31806527]]\n",
      "\n",
      "Upper-Trianglular Matrix U In Cholesky Decomposition Is :\n",
      "[[ 4.35889894 -2.75298881 -2.75298881 -4.35889894]\n",
      " [ 0.          4.40693234 -1.49286326 -3.63064344]\n",
      " [ 0.          0.          1.09197616 -3.13198616]\n",
      " [ 0.          0.          0.          3.00151477]]\n"
     ]
    }
   ],
   "source": [
    "# CHOLESKY DECOMPOSITION\n",
    "import numpy as np\n",
    "import scipy\n",
    "import scipy.linalg\n",
    "a = np.array(([[19,-12,-12,-19],[-12,27,1,-4],[-12,1,11,14],[-19,4,14,51]]), dtype=np.int32)\n",
    "print(\"The Matrix Formed Is :\")\n",
    "print(a)\n",
    "L = np.linalg.cholesky(a)\n",
    "print(\"\\nLower-Trianglular Matrix L In Cholesky Decomposition Is :\")\n",
    "print(L)\n",
    "U = scipy.linalg.cholesky(a,lower=False)\n",
    "print(\"\\nUpper-Trianglular Matrix U In Cholesky Decomposition Is :\")\n",
    "print(U)"
   ]
  },
  {
   "cell_type": "code",
   "execution_count": 1,
   "id": "64958e3e",
   "metadata": {},
   "outputs": [
    {
     "name": "stdout",
     "output_type": "stream",
     "text": [
      "Enter Number Of Variables : 3\n",
      "Enter Augmented Matrix Coefficients:\n",
      "a[0][0]=3\n",
      "a[0][1]=5\n",
      "a[0][2]=-2\n",
      "a[0][3]=10\n",
      "a[1][0]=1\n",
      "a[1][1]=4\n",
      "a[1][2]=1\n",
      "a[1][3]=7\n",
      "a[2][0]=9\n",
      "a[2][1]=0\n",
      "a[2][2]=2\n",
      "a[2][3]=1\n",
      "\n",
      "Solution : \n",
      "X0 = 0.18\tX1 = 1.78\tX2 = -0.29\t"
     ]
    }
   ],
   "source": [
    "# GAUSS JORDAN METHOD\n",
    "import numpy as np\n",
    "import sys\n",
    "n = int(input('Enter Number Of Variables : '))\n",
    "a = np.zeros((n,n+1))\n",
    "x = np.zeros(n)\n",
    "print('Enter Augmented Matrix Coefficients:')\n",
    "for i in range(n):\n",
    "    for j in range(n+1):\n",
    "        a[i][j] = float(input( 'a['+str(i)+']['+ str(j)+']='))\n",
    "for i in range(n):\n",
    "    if a[i][i] == 0.0:\n",
    "        sys.exit('Cannot Divide By Zero')\n",
    "    for j in range(n):\n",
    "        if i != j:\n",
    "            ratio = a[j][i]/a[i][i]\n",
    "\n",
    "            for k in range(n+1):\n",
    "                a[j][k] = a[j][k] - ratio * a[i][k]\n",
    "for i in range(n):\n",
    "    x[i] = a[i][n]/a[i][i]\n",
    "print('\\nSolution : ')\n",
    "for i in range(n):\n",
    "    print('X%d = %0.2f' %(i,x[i]), end = '\\t')"
   ]
  },
  {
   "cell_type": "code",
   "execution_count": null,
   "id": "b99ce173",
   "metadata": {},
   "outputs": [],
   "source": []
  }
 ],
 "metadata": {
  "kernelspec": {
   "display_name": "Python 3",
   "language": "python",
   "name": "python3"
  },
  "language_info": {
   "codemirror_mode": {
    "name": "ipython",
    "version": 3
   },
   "file_extension": ".py",
   "mimetype": "text/x-python",
   "name": "python",
   "nbconvert_exporter": "python",
   "pygments_lexer": "ipython3",
   "version": "3.8.8"
  }
 },
 "nbformat": 4,
 "nbformat_minor": 5
}
