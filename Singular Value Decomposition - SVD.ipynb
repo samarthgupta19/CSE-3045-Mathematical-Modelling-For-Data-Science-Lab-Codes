{
 "cells": [
  {
   "cell_type": "code",
   "execution_count": 5,
   "id": "1058c8f6",
   "metadata": {},
   "outputs": [
    {
     "name": "stdout",
     "output_type": "stream",
     "text": [
      "[[5 1 7 6]\n",
      " [3 8 5 1]\n",
      " [7 4 5 6]\n",
      " [2 5 4 1]] \n",
      "\n",
      "[[-0.53567222  0.54915035  0.62215907 -0.15622819]\n",
      " [-0.48019039 -0.68445996  0.05361093 -0.54594653]\n",
      " [-0.60515718  0.27740491 -0.7377526   0.11203754]\n",
      " [-0.34096516 -0.39114572  0.25644699  0.81546473]] \n",
      "\n",
      "[1.79952589e+01 7.20388081e+00 2.50493913e+00 6.15897159e-03] \n",
      "\n",
      "[[-0.50218577 -0.47249389 -0.58572673 -0.42600843]\n",
      " [ 0.25707182 -0.8013234   0.0338976   0.53911579]\n",
      " [-0.5508102  -0.24660435  0.78253126 -0.15309881]\n",
      " [-0.61508671  0.27169214 -0.20837461  0.71023358]]\n"
     ]
    }
   ],
   "source": [
    "# Singular-Value Decomposition\n",
    "from numpy import array\n",
    "from scipy.linalg import svd\n",
    "# Defining Matrix\n",
    "A = array([[5, 1, 7, 6], [3, 8, 5, 1], [7, 4, 5, 6], [2, 5, 4, 1]])\n",
    "print(A,\"\\n\")\n",
    "# Evaluating SVD\n",
    "U, s, VT = svd(A)\n",
    "print(U,\"\\n\")\n",
    "print(s,\"\\n\")\n",
    "print(VT)"
   ]
  },
  {
   "cell_type": "code",
   "execution_count": 6,
   "id": "167eb3fb",
   "metadata": {},
   "outputs": [
    {
     "name": "stdout",
     "output_type": "stream",
     "text": [
      "[[5 1 7 6]\n",
      " [3 8 5 1]\n",
      " [7 4 5 6]\n",
      " [2 5 4 1]] \n",
      "\n",
      "[[5. 1. 7. 6.]\n",
      " [3. 8. 5. 1.]\n",
      " [7. 4. 5. 6.]\n",
      " [2. 5. 4. 1.]]\n"
     ]
    }
   ],
   "source": [
    "# Reconstructing SVD\n",
    "from numpy import array\n",
    "from numpy import diag\n",
    "from numpy import dot\n",
    "from numpy import zeros\n",
    "from scipy.linalg import svd\n",
    "# Defining The Same Matrix As above\n",
    "A = array([[5, 1, 7, 6], [3, 8, 5, 1], [7, 4, 5, 6], [2, 5, 4, 1]])\n",
    "print(A,\"\\n\")\n",
    "# Evaluating SVD\n",
    "U, s, VT = svd(A)\n",
    "# Creating m x n Sigma matrix\n",
    "Sigma = zeros((A.shape[0], A.shape[1]))\n",
    "# populate Sigma with n x n diagonal matrix\n",
    "Sigma[:A.shape[1], :A.shape[1]] = diag(s)\n",
    "# Reconstructing matrix\n",
    "B = U.dot(Sigma.dot(VT))\n",
    "print(B)"
   ]
  },
  {
   "cell_type": "code",
   "execution_count": null,
   "id": "bc57126a",
   "metadata": {},
   "outputs": [],
   "source": []
  }
 ],
 "metadata": {
  "kernelspec": {
   "display_name": "Python 3",
   "language": "python",
   "name": "python3"
  },
  "language_info": {
   "codemirror_mode": {
    "name": "ipython",
    "version": 3
   },
   "file_extension": ".py",
   "mimetype": "text/x-python",
   "name": "python",
   "nbconvert_exporter": "python",
   "pygments_lexer": "ipython3",
   "version": "3.8.8"
  }
 },
 "nbformat": 4,
 "nbformat_minor": 5
}
