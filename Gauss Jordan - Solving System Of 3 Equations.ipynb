{
 "cells": [
  {
   "cell_type": "code",
   "execution_count": 1,
   "id": "805264b0",
   "metadata": {},
   "outputs": [],
   "source": [
    "# Importing Required Libraries.\n",
    "import numpy as np\n",
    "import sys\n"
   ]
  },
  {
   "cell_type": "code",
   "execution_count": 3,
   "id": "6a909613",
   "metadata": {},
   "outputs": [
    {
     "name": "stdout",
     "output_type": "stream",
     "text": [
      "Determinant Of Matrix A : 6.394884621840902e-14\n",
      "Determinant Of Matrix B : -235.0\n",
      "\n"
     ]
    }
   ],
   "source": [
    "# Finding Determinants Of Matrices Using Linalg Package.\n",
    "a = np.array([[1,2,3,4], [8, 8, 8, 0], [5,6,7,8], [9,10,11,12]])\n",
    "print(\"Determinant Of Matrix A :\", np.linalg.det(a))\n",
    "b = np.array([[9,7,2], [5, 0, 3], [2,6,5]])\n",
    "print(\"Determinant Of Matrix B :\", np.linalg.det(b))\n",
    "print()"
   ]
  },
  {
   "cell_type": "code",
   "execution_count": 4,
   "id": "fada908f",
   "metadata": {},
   "outputs": [
    {
     "name": "stdout",
     "output_type": "stream",
     "text": [
      "Trace Of Matrix A : 28\n",
      "Trace Of Matrix B : 14\n",
      "Trace Of Matrix C : 9\n",
      "\n"
     ]
    }
   ],
   "source": [
    "# Finding Trace Of Matrices.\n",
    "tr = np.trace(a)\n",
    "print(\"Trace Of Matrix A :\", tr)\n",
    "tr = np.trace(b)\n",
    "print(\"Trace Of Matrix B :\", tr)\n",
    "# Putting Condition For Trace To Not Exist.\n",
    "n=[[3,2,4,5],[7,3,4,1],[1,2,3,4],[6,6,7,0]]\n",
    "if(len(n) == len(n[0])):\n",
    "    tr = np.trace(n)\n",
    "    print(\"Trace Of Matrix C :\", tr)\n",
    "else:\n",
    "    print(\"Trace Does Not Exist\")\n",
    "print()"
   ]
  },
  {
   "cell_type": "code",
   "execution_count": 5,
   "id": "d7197bc8",
   "metadata": {},
   "outputs": [
    {
     "name": "stdout",
     "output_type": "stream",
     "text": [
      "Rank of Matrix A :  3\n",
      "Rank of Matrix B :  3\n",
      "Rank of Matrix M :  2\n",
      "\n"
     ]
    }
   ],
   "source": [
    "# Next We Find Rank Of The Matrices Using Linalg Package.\n",
    "rank = np.linalg.matrix_rank(a)\n",
    "print(\"Rank of Matrix A : \", rank)\n",
    "rank = np.linalg.matrix_rank(b)\n",
    "print(\"Rank of Matrix B : \", rank)\n",
    "# Rank For 2x3 Matrix.\n",
    "m = [[8,7,6], [1,2,1]]\n",
    "rank = np.linalg.matrix_rank(m)\n",
    "print(\"Rank of Matrix M : \", rank)\n",
    "print()"
   ]
  },
  {
   "cell_type": "code",
   "execution_count": 6,
   "id": "218997c6",
   "metadata": {},
   "outputs": [
    {
     "name": "stdout",
     "output_type": "stream",
     "text": [
      "Solve Of The Matrix Is : [ 1. -1. -1.]\n",
      "\n"
     ]
    }
   ],
   "source": [
    "# Next We Find The Matrix Solve.\n",
    "a = np.array([[3,1,1], [2,0,2],[5,1,2]])\n",
    "b = np.array([1,0,2])\n",
    "x = np.linalg.solve(a, b)\n",
    "print(\"Solve Of The Matrix Is :\", x)\n",
    "print()"
   ]
  },
  {
   "cell_type": "code",
   "execution_count": 7,
   "id": "69db6d91",
   "metadata": {},
   "outputs": [
    {
     "name": "stdout",
     "output_type": "stream",
     "text": [
      "Eigen-Values Of The Matrix A : [ 5.59954383+0.j        -0.29977191+0.5170191j -0.29977191-0.5170191j]\n",
      "Eigen-Vectors Of The Matrix A : [[ 0.464876  +0.j          0.27992303+0.1589156j   0.27992303-0.1589156j ]\n",
      " [ 0.44037947+0.j         -0.85391075+0.j         -0.85391075-0.j        ]\n",
      " [ 0.76808608+0.j         -0.1519338 -0.37965969j -0.1519338 +0.37965969j]]\n",
      "\n"
     ]
    }
   ],
   "source": [
    "# Next We Find The Eigen-Values And Eigen-Vectors.\n",
    "w, v = np.linalg.eig(a)\n",
    "print(\"Eigen-Values Of The Matrix A :\", w)\n",
    "print(\"Eigen-Vectors Of The Matrix A :\", v)\n",
    "print()"
   ]
  },
  {
   "cell_type": "code",
   "execution_count": 8,
   "id": "3d1867fa",
   "metadata": {},
   "outputs": [
    {
     "name": "stdout",
     "output_type": "stream",
     "text": [
      "Eigen-Values Of The Matrix N : [13.99555525+0.j         -0.81669217+0.86998046j -0.81669217-0.86998046j\n",
      " -3.3621709 +0.j        ]\n",
      "Eigen-Vectors Of The Matrix N : [[-0.49847773+0.j         -0.12283999+0.16496854j -0.12283999-0.16496854j\n",
      "  -0.32254307+0.j        ]\n",
      " [-0.50297801+0.j          0.76100078+0.j          0.76100078-0.j\n",
      "   0.5726224 +0.j        ]\n",
      " [-0.35817553+0.j         -0.56415315-0.10794484j -0.56415315+0.10794484j\n",
      "  -0.48958936+0.j        ]\n",
      " [-0.60847626+0.j          0.21198681-0.06094464j  0.21198681+0.06094464j\n",
      "   0.57303736+0.j        ]]\n",
      "\n"
     ]
    }
   ],
   "source": [
    "# Also Finding Eigen-Values And Eigen-Vectors For The 4x4 Matrix Which Was Used Above. \n",
    "w, v = np.linalg.eig(n)\n",
    "print(\"Eigen-Values Of The Matrix N :\", w)\n",
    "print(\"Eigen-Vectors Of The Matrix N :\", v)\n",
    "print()"
   ]
  },
  {
   "cell_type": "code",
   "execution_count": 2,
   "id": "d736513b",
   "metadata": {},
   "outputs": [
    {
     "data": {
      "text/plain": [
       "array([ 5.,  1., -2.])"
      ]
     },
     "execution_count": 2,
     "metadata": {},
     "output_type": "execute_result"
    }
   ],
   "source": [
    "# SOLVING SYSTEM OF 3 EQUATIONS\n",
    "\n",
    "import numpy as np\n",
    "# A MATRIX IS COEFFICIENT MATRIX\n",
    "A = np.array([[1, -3, 3], [2,3, -1], [4, -3, -1]])\n",
    "# B MATRIX IS RHS MATRIX\n",
    "B = np.array([-4, 15, 19])\n",
    "x = np.linalg.solve(A, B)\n",
    "x"
   ]
  },
  {
   "cell_type": "code",
   "execution_count": null,
   "id": "a7f7ec3b",
   "metadata": {},
   "outputs": [],
   "source": [
    "# Gauss Jordan Method \n",
    "import numpy as np\n",
    "import sys\n",
    "n = int(input('Enter Number of Variables : '))\n",
    "a = np.zeros((n,n+1))\n",
    "x = np.zeros(n)\n",
    "print('Enter Augmented Matrix Coefficients:')\n",
    "for i in range(n):\n",
    "    for j in range(n+1):\n",
    "        a[i][j] = float(input( 'a['+str(i)+']['+ str(j)+']='))\n",
    "for i in range(n):\n",
    "    if a[i][i] == 0.0:\n",
    "        sys.exit('Cannot Divide By Zero!')\n",
    "    for j in range(n):\n",
    "        if i != j:\n",
    "            ratio = a[j][i]/a[i][i]\n",
    "            for k in range(n+1):\n",
    "                a[j][k] = a[j][k] - ratio * a[i][k]\n",
    "for i in range(n):\n",
    "    x[i] = a[i][n]/a[i][i]\n",
    "print('\\nSolution : ')\n",
    "for i in range(n):\n",
    "    print('X%d = %0.2f' %(i,x[i]), end = '\\t')"
   ]
  },
  {
   "cell_type": "code",
   "execution_count": null,
   "id": "6d370f40",
   "metadata": {},
   "outputs": [],
   "source": []
  }
 ],
 "metadata": {
  "kernelspec": {
   "display_name": "Python 3",
   "language": "python",
   "name": "python3"
  },
  "language_info": {
   "codemirror_mode": {
    "name": "ipython",
    "version": 3
   },
   "file_extension": ".py",
   "mimetype": "text/x-python",
   "name": "python",
   "nbconvert_exporter": "python",
   "pygments_lexer": "ipython3",
   "version": "3.8.8"
  }
 },
 "nbformat": 4,
 "nbformat_minor": 5
}
